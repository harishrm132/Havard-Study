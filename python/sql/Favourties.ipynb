{
 "cells": [
  {
   "cell_type": "code",
   "execution_count": 1,
   "metadata": {},
   "outputs": [
    {
     "name": "stdout",
     "output_type": "stream",
     "text": [
      "No of people who likes OFFICE: 40\n"
     ]
    }
   ],
   "source": [
    "import csv\n",
    "\n",
    "counter = 0\n",
    "with open(\"Favourties.csv\", \"r\") as file:\n",
    "    reader = csv.DictReader(file)\n",
    "    for row in reader:\n",
    "        t = row[\"title\"].strip().upper()\n",
    "        if t == \"THE OFFICE\":\n",
    "            counter += 1\n",
    "print(f\"No of people who likes OFFICE: {counter}\")"
   ]
  }
 ],
 "metadata": {
  "interpreter": {
   "hash": "025d9167e2ac5a8645e9495aa681c87935cbdf9d0befc4bc5a72c93f41644586"
  },
  "kernelspec": {
   "display_name": "Python 3.9.6 64-bit",
   "language": "python",
   "name": "python3"
  },
  "language_info": {
   "codemirror_mode": {
    "name": "ipython",
    "version": 3
   },
   "file_extension": ".py",
   "mimetype": "text/x-python",
   "name": "python",
   "nbconvert_exporter": "python",
   "pygments_lexer": "ipython3",
   "version": "3.9.6"
  },
  "orig_nbformat": 4
 },
 "nbformat": 4,
 "nbformat_minor": 2
}
