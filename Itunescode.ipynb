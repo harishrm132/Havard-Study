{
 "cells": [
  {
   "cell_type": "code",
   "execution_count": null,
   "metadata": {},
   "outputs": [],
   "source": [
    "#APIs - A\n",
    "#JSON - Exchanging data b/w platform or application\n",
    "\n",
    "import json\n",
    "import requests\n",
    "\n",
    "response = requests.get(\"https://itunes.apple.com/search?entity=song&limit=1&term=weezer\")\n",
    "print(json.dumps(response.json(), indent=2))"
   ]
  },
  {
   "cell_type": "markdown",
   "metadata": {},
   "source": [
    "# Get All Tracks"
   ]
  },
  {
   "cell_type": "code",
   "execution_count": 10,
   "metadata": {},
   "outputs": [
    {
     "name": "stdout",
     "output_type": "stream",
     "text": [
      "Buddy Holly\n",
      "Say It Ain't So\n",
      "Undone - The Sweater Song\n",
      "My Name Is Jonas\n",
      "Holiday\n",
      "Surf Wax America\n",
      "The World Has Turned and Left Me Here\n",
      "Only in Dreams\n",
      "In the Garage\n",
      "No One Else\n",
      "Say It Ain't So\n",
      "Buddy Holly\n",
      "Undone - The Sweater Song\n",
      "Susanne\n",
      "Say It Ain't So\n"
     ]
    }
   ],
   "source": [
    "response = requests.get(\"https://itunes.apple.com/search?entity=song&limit=15&term=weezer\")\n",
    "o = response.json()\n",
    "#Get the all the track names of band\n",
    "for result in o[\"results\"]:\n",
    "    print(result[\"trackName\"])"
   ]
  }
 ],
 "metadata": {
  "interpreter": {
   "hash": "025d9167e2ac5a8645e9495aa681c87935cbdf9d0befc4bc5a72c93f41644586"
  },
  "kernelspec": {
   "display_name": "Python 3.9.6 64-bit",
   "language": "python",
   "name": "python3"
  },
  "language_info": {
   "codemirror_mode": {
    "name": "ipython",
    "version": 3
   },
   "file_extension": ".py",
   "mimetype": "text/x-python",
   "name": "python",
   "nbconvert_exporter": "python",
   "pygments_lexer": "ipython3",
   "version": "3.9.6"
  },
  "orig_nbformat": 4
 },
 "nbformat": 4,
 "nbformat_minor": 2
}
